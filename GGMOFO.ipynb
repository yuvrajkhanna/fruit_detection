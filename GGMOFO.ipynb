{
 "cells": [
  {
   "cell_type": "code",
   "execution_count": 1,
   "metadata": {},
   "outputs": [],
   "source": [
    "from data import *\n",
    "from utils.augmentations import SSDAugmentation\n",
    "from layers.modules import MultiBoxLoss\n",
    "from ssd import build_ssd\n",
    "import os\n",
    "import sys\n",
    "import time\n",
    "import torch\n",
    "from torch.autograd import Variable\n",
    "import torch.nn as nn\n",
    "import torch.optim as optim\n",
    "import torch.backends.cudnn as cudnn\n",
    "import torch.nn.init as init\n",
    "import torch.utils.data as data\n",
    "import numpy as np\n",
    "import argparse\n",
    "if sys.version_info[0] == 2:\n",
    "    import xml.etree.cElementTree as ET\n",
    "else:\n",
    "    import xml.etree.ElementTree as ET\n"
   ]
  },
  {
   "cell_type": "code",
   "execution_count": 2,
   "metadata": {},
   "outputs": [],
   "source": [
    "def str2bool(v):\n",
    "    return v.lower() in (\"yes\", \"true\", \"t\", \"1\")"
   ]
  },
  {
   "cell_type": "code",
   "execution_count": 3,
   "metadata": {},
   "outputs": [
    {
     "data": {
      "text/plain": [
       "_StoreAction(option_strings=['--save_folder'], dest='save_folder', nargs=None, const=None, default='weights/', type=None, choices=None, help='Directory for saving checkpoint models', metavar=None)"
      ]
     },
     "execution_count": 3,
     "metadata": {},
     "output_type": "execute_result"
    }
   ],
   "source": [
    "parser = argparse.ArgumentParser(\n",
    "    description='Single Shot MultiBox Detector Training With Pytorch')\n",
    "train_set = parser.add_mutually_exclusive_group()\n",
    "parser.add_argument('--foo', action='store_true')\n",
    "parser.add_argument('--dataset', default='VOC', choices=['VOC', 'COCO'],\n",
    "                    type=str, help='VOC or COCO')\n",
    "parser.add_argument('--dataset_root', default=VOC_ROOT,\n",
    "                    help='Dataset root directory path')\n",
    "parser.add_argument('--basenet', default='vgg16_reducedfc.pth',\n",
    "                    help='Pretrained base model')\n",
    "parser.add_argument('--batch_size', default=4, type=int,\n",
    "                    help='Batch size for training')\n",
    "parser.add_argument('--resume', default=None, type=str,\n",
    "                    help='Checkpoint state_dict file to resume training from')\n",
    "parser.add_argument('--start_iter', default=0, type=int,\n",
    "                    help='Resume training at this iter')\n",
    "parser.add_argument('--num_workers', default=4, type=int,\n",
    "                    help='Number of workers used in dataloading')\n",
    "parser.add_argument('--cuda', default=True, type=str2bool,\n",
    "                    help='Use CUDA to train model')\n",
    "parser.add_argument('--lr', '--learning-rate', default=1e-4, type=float,\n",
    "                    help='initial learning rate')\n",
    "parser.add_argument('--momentum', default=0.9, type=float,\n",
    "                    help='Momentum value for optim')\n",
    "parser.add_argument('--weight_decay', default=5e-4, type=float,\n",
    "                    help='Weight decay for SGD')\n",
    "parser.add_argument('--gamma', default=0.1, type=float,\n",
    "                    help='Gamma update for SGD')\n",
    "parser.add_argument('--visdom', default=False, type=str2bool,\n",
    "                    help='Use visdom for loss visualization')\n",
    "parser.add_argument('--save_folder', default='weights/',\n",
    "                    help='Directory for saving checkpoint models')"
   ]
  },
  {
   "cell_type": "code",
   "execution_count": 4,
   "metadata": {},
   "outputs": [],
   "source": [
    "import sys\n",
    "sys.argv=['']\n",
    "del sys"
   ]
  },
  {
   "cell_type": "code",
   "execution_count": 5,
   "metadata": {},
   "outputs": [],
   "source": [
    "args = parser.parse_args()"
   ]
  },
  {
   "cell_type": "code",
   "execution_count": 6,
   "metadata": {},
   "outputs": [],
   "source": [
    "if torch.cuda.is_available():\n",
    "    if args.cuda:\n",
    "        torch.set_default_tensor_type('torch.cuda.FloatTensor')\n",
    "    if not args.cuda:\n",
    "        print(\"WARNING: It looks like you have a CUDA device, but aren't \" +\n",
    "              \"using CUDA.\\nRun with --cuda for optimal training speed.\")\n",
    "        torch.set_default_tensor_type('torch.FloatTensor')\n",
    "else:\n",
    "    torch.set_default_tensor_type('torch.FloatTensor')\n",
    "\n",
    "if not os.path.exists(args.save_folder):\n",
    "    os.mkdir(args.save_folder)"
   ]
  },
  {
   "cell_type": "code",
   "execution_count": 7,
   "metadata": {},
   "outputs": [],
   "source": [
    "cfg=voc"
   ]
  },
  {
   "cell_type": "code",
   "execution_count": 8,
   "metadata": {},
   "outputs": [
    {
     "data": {
      "text/plain": [
       "{'num_classes': 3,\n",
       " 'lr_steps': (80000, 100000, 120000),\n",
       " 'max_iter': 120000,\n",
       " 'feature_maps': [38, 19, 10, 5, 3, 1],\n",
       " 'min_dim': 300,\n",
       " 'steps': [8, 16, 32, 64, 100, 300],\n",
       " 'min_sizes': [30, 60, 111, 162, 213, 264],\n",
       " 'max_sizes': [60, 111, 162, 213, 264, 315],\n",
       " 'aspect_ratios': [[2], [2, 3], [2, 3], [2, 3], [2], [2]],\n",
       " 'variance': [0.1, 0.2],\n",
       " 'clip': True,\n",
       " 'name': 'VOC'}"
      ]
     },
     "execution_count": 8,
     "metadata": {},
     "output_type": "execute_result"
    }
   ],
   "source": [
    "cfg"
   ]
  },
  {
   "cell_type": "code",
   "execution_count": null,
   "metadata": {},
   "outputs": [],
   "source": []
  },
  {
   "cell_type": "code",
   "execution_count": 9,
   "metadata": {},
   "outputs": [],
   "source": [
    "dataset = VOCDetection(root=args.dataset_root,\n",
    "                               transform=SSDAugmentation(cfg['min_dim'],\n",
    "                                                         MEANS))"
   ]
  },
  {
   "cell_type": "code",
   "execution_count": 10,
   "metadata": {},
   "outputs": [
    {
     "data": {
      "text/plain": [
       "'VOC0712'"
      ]
     },
     "execution_count": 10,
     "metadata": {},
     "output_type": "execute_result"
    }
   ],
   "source": [
    "dataset.name"
   ]
  },
  {
   "cell_type": "code",
   "execution_count": 11,
   "metadata": {},
   "outputs": [
    {
     "data": {
      "text/plain": [
       "1423"
      ]
     },
     "execution_count": 11,
     "metadata": {},
     "output_type": "execute_result"
    }
   ],
   "source": [
    "len(dataset)"
   ]
  },
  {
   "cell_type": "code",
   "execution_count": 12,
   "metadata": {},
   "outputs": [],
   "source": [
    "img_id=dataset.ids[1]"
   ]
  },
  {
   "cell_type": "code",
   "execution_count": 13,
   "metadata": {},
   "outputs": [],
   "source": [
    "import pandas as pd"
   ]
  },
  {
   "cell_type": "code",
   "execution_count": 14,
   "metadata": {
    "scrolled": true
   },
   "outputs": [],
   "source": [
    "anno = pd.read_csv(dataset._annopath % img_id)"
   ]
  },
  {
   "cell_type": "code",
   "execution_count": 15,
   "metadata": {},
   "outputs": [],
   "source": [
    "anno['xmin']=anno['x']\n",
    "anno['ymin']=anno['y']\n",
    "anno['xmax']=anno['x']+anno['dx']\n",
    "anno['ymax']=anno['y']+anno['dy']"
   ]
  },
  {
   "cell_type": "code",
   "execution_count": 16,
   "metadata": {},
   "outputs": [
    {
     "data": {
      "text/html": [
       "<div>\n",
       "<style scoped>\n",
       "    .dataframe tbody tr th:only-of-type {\n",
       "        vertical-align: middle;\n",
       "    }\n",
       "\n",
       "    .dataframe tbody tr th {\n",
       "        vertical-align: top;\n",
       "    }\n",
       "\n",
       "    .dataframe thead th {\n",
       "        text-align: right;\n",
       "    }\n",
       "</style>\n",
       "<table border=\"1\" class=\"dataframe\">\n",
       "  <thead>\n",
       "    <tr style=\"text-align: right;\">\n",
       "      <th></th>\n",
       "      <th>#item</th>\n",
       "      <th>x</th>\n",
       "      <th>y</th>\n",
       "      <th>dx</th>\n",
       "      <th>dy</th>\n",
       "      <th>label</th>\n",
       "      <th>xmin</th>\n",
       "      <th>ymin</th>\n",
       "      <th>xmax</th>\n",
       "      <th>ymax</th>\n",
       "    </tr>\n",
       "  </thead>\n",
       "  <tbody>\n",
       "    <tr>\n",
       "      <th>0</th>\n",
       "      <td>0</td>\n",
       "      <td>341.428571</td>\n",
       "      <td>287.142857</td>\n",
       "      <td>56.026203</td>\n",
       "      <td>58.522639</td>\n",
       "      <td>mango</td>\n",
       "      <td>341.428571</td>\n",
       "      <td>287.142857</td>\n",
       "      <td>397.454774</td>\n",
       "      <td>345.665496</td>\n",
       "    </tr>\n",
       "    <tr>\n",
       "      <th>1</th>\n",
       "      <td>1</td>\n",
       "      <td>438.095238</td>\n",
       "      <td>309.523810</td>\n",
       "      <td>56.026203</td>\n",
       "      <td>70.812393</td>\n",
       "      <td>mango</td>\n",
       "      <td>438.095238</td>\n",
       "      <td>309.523810</td>\n",
       "      <td>494.121441</td>\n",
       "      <td>380.336202</td>\n",
       "    </tr>\n",
       "    <tr>\n",
       "      <th>2</th>\n",
       "      <td>2</td>\n",
       "      <td>421.904762</td>\n",
       "      <td>373.333333</td>\n",
       "      <td>50.423582</td>\n",
       "      <td>63.731153</td>\n",
       "      <td>mango</td>\n",
       "      <td>421.904762</td>\n",
       "      <td>373.333333</td>\n",
       "      <td>472.328344</td>\n",
       "      <td>437.064487</td>\n",
       "    </tr>\n",
       "    <tr>\n",
       "      <th>3</th>\n",
       "      <td>3</td>\n",
       "      <td>452.380952</td>\n",
       "      <td>442.380952</td>\n",
       "      <td>44.033356</td>\n",
       "      <td>55.654447</td>\n",
       "      <td>mango</td>\n",
       "      <td>452.380952</td>\n",
       "      <td>442.380952</td>\n",
       "      <td>496.414309</td>\n",
       "      <td>498.035399</td>\n",
       "    </tr>\n",
       "  </tbody>\n",
       "</table>\n",
       "</div>"
      ],
      "text/plain": [
       "   #item           x           y         dx         dy  label        xmin  \\\n",
       "0      0  341.428571  287.142857  56.026203  58.522639  mango  341.428571   \n",
       "1      1  438.095238  309.523810  56.026203  70.812393  mango  438.095238   \n",
       "2      2  421.904762  373.333333  50.423582  63.731153  mango  421.904762   \n",
       "3      3  452.380952  442.380952  44.033356  55.654447  mango  452.380952   \n",
       "\n",
       "         ymin        xmax        ymax  \n",
       "0  287.142857  397.454774  345.665496  \n",
       "1  309.523810  494.121441  380.336202  \n",
       "2  373.333333  472.328344  437.064487  \n",
       "3  442.380952  496.414309  498.035399  "
      ]
     },
     "execution_count": 16,
     "metadata": {},
     "output_type": "execute_result"
    }
   ],
   "source": [
    "anno"
   ]
  },
  {
   "cell_type": "code",
   "execution_count": 17,
   "metadata": {},
   "outputs": [],
   "source": [
    "cols=np.append(anno.columns[6:],anno.columns[5])"
   ]
  },
  {
   "cell_type": "code",
   "execution_count": 18,
   "metadata": {},
   "outputs": [],
   "source": [
    "df=anno[cols]"
   ]
  },
  {
   "cell_type": "code",
   "execution_count": 19,
   "metadata": {},
   "outputs": [
    {
     "name": "stderr",
     "output_type": "stream",
     "text": [
      "/home/yuvraj/anaconda3/envs/tf/lib/python3.6/site-packages/pandas/core/indexing.py:543: SettingWithCopyWarning: \n",
      "A value is trying to be set on a copy of a slice from a DataFrame.\n",
      "Try using .loc[row_indexer,col_indexer] = value instead\n",
      "\n",
      "See the caveats in the documentation: http://pandas.pydata.org/pandas-docs/stable/indexing.html#indexing-view-versus-copy\n",
      "  self.obj[item] = s\n"
     ]
    }
   ],
   "source": [
    "df.loc[:,'xmin']/=500"
   ]
  },
  {
   "cell_type": "code",
   "execution_count": 20,
   "metadata": {},
   "outputs": [],
   "source": [
    "class_to_ind= dict(zip(VOC_CLASSES, range(len(VOC_CLASSES))))"
   ]
  },
  {
   "cell_type": "code",
   "execution_count": 21,
   "metadata": {},
   "outputs": [
    {
     "data": {
      "text/plain": [
       "{'mango': 0, 'almond': 1}"
      ]
     },
     "execution_count": 21,
     "metadata": {},
     "output_type": "execute_result"
    }
   ],
   "source": [
    "class_to_ind"
   ]
  },
  {
   "cell_type": "code",
   "execution_count": 22,
   "metadata": {},
   "outputs": [],
   "source": [
    "df.loc[:,'label']=class_to_ind[df['label'][0]]"
   ]
  },
  {
   "cell_type": "code",
   "execution_count": 23,
   "metadata": {},
   "outputs": [
    {
     "data": {
      "text/html": [
       "<div>\n",
       "<style scoped>\n",
       "    .dataframe tbody tr th:only-of-type {\n",
       "        vertical-align: middle;\n",
       "    }\n",
       "\n",
       "    .dataframe tbody tr th {\n",
       "        vertical-align: top;\n",
       "    }\n",
       "\n",
       "    .dataframe thead th {\n",
       "        text-align: right;\n",
       "    }\n",
       "</style>\n",
       "<table border=\"1\" class=\"dataframe\">\n",
       "  <thead>\n",
       "    <tr style=\"text-align: right;\">\n",
       "      <th></th>\n",
       "      <th>xmin</th>\n",
       "      <th>ymin</th>\n",
       "      <th>xmax</th>\n",
       "      <th>ymax</th>\n",
       "      <th>label</th>\n",
       "    </tr>\n",
       "  </thead>\n",
       "  <tbody>\n",
       "    <tr>\n",
       "      <th>0</th>\n",
       "      <td>0.682857</td>\n",
       "      <td>287.142857</td>\n",
       "      <td>397.454774</td>\n",
       "      <td>345.665496</td>\n",
       "      <td>0</td>\n",
       "    </tr>\n",
       "    <tr>\n",
       "      <th>1</th>\n",
       "      <td>0.876190</td>\n",
       "      <td>309.523810</td>\n",
       "      <td>494.121441</td>\n",
       "      <td>380.336202</td>\n",
       "      <td>0</td>\n",
       "    </tr>\n",
       "    <tr>\n",
       "      <th>2</th>\n",
       "      <td>0.843810</td>\n",
       "      <td>373.333333</td>\n",
       "      <td>472.328344</td>\n",
       "      <td>437.064487</td>\n",
       "      <td>0</td>\n",
       "    </tr>\n",
       "    <tr>\n",
       "      <th>3</th>\n",
       "      <td>0.904762</td>\n",
       "      <td>442.380952</td>\n",
       "      <td>496.414309</td>\n",
       "      <td>498.035399</td>\n",
       "      <td>0</td>\n",
       "    </tr>\n",
       "  </tbody>\n",
       "</table>\n",
       "</div>"
      ],
      "text/plain": [
       "       xmin        ymin        xmax        ymax  label\n",
       "0  0.682857  287.142857  397.454774  345.665496      0\n",
       "1  0.876190  309.523810  494.121441  380.336202      0\n",
       "2  0.843810  373.333333  472.328344  437.064487      0\n",
       "3  0.904762  442.380952  496.414309  498.035399      0"
      ]
     },
     "execution_count": 23,
     "metadata": {},
     "output_type": "execute_result"
    }
   ],
   "source": [
    "df"
   ]
  },
  {
   "cell_type": "code",
   "execution_count": 24,
   "metadata": {},
   "outputs": [],
   "source": [
    "res=df.values"
   ]
  },
  {
   "cell_type": "code",
   "execution_count": 25,
   "metadata": {},
   "outputs": [
    {
     "data": {
      "text/plain": [
       "array([[  0.68285714, 287.14285714, 397.45477398, 345.66549573,\n",
       "          0.        ],\n",
       "       [  0.87619048, 309.52380952, 494.12144064, 380.33620221,\n",
       "          0.        ],\n",
       "       [  0.84380952, 373.33333333, 472.3283442 , 437.06448675,\n",
       "          0.        ],\n",
       "       [  0.9047619 , 442.38095238, 496.41430871, 498.03539937,\n",
       "          0.        ]])"
      ]
     },
     "execution_count": 25,
     "metadata": {},
     "output_type": "execute_result"
    }
   ],
   "source": [
    "res"
   ]
  },
  {
   "cell_type": "code",
   "execution_count": 26,
   "metadata": {},
   "outputs": [],
   "source": [
    "trans=VOCAnnotationTransform()"
   ]
  },
  {
   "cell_type": "code",
   "execution_count": 27,
   "metadata": {},
   "outputs": [],
   "source": [
    "img=cv2.imread('000005.jpg')"
   ]
  },
  {
   "cell_type": "code",
   "execution_count": 28,
   "metadata": {},
   "outputs": [],
   "source": [
    "height,width,channels=img.shape"
   ]
  },
  {
   "cell_type": "code",
   "execution_count": 29,
   "metadata": {},
   "outputs": [],
   "source": [
    "import pandas as pd\n",
    "target=pd.read_csv('/home/yuvraj/Desktop/work/HM/acfr-fruit-dataset/mangoes/annotations/20151124T024327.193809_i1590j799.csv')"
   ]
  },
  {
   "cell_type": "code",
   "execution_count": 30,
   "metadata": {},
   "outputs": [
    {
     "data": {
      "text/html": [
       "<div>\n",
       "<style scoped>\n",
       "    .dataframe tbody tr th:only-of-type {\n",
       "        vertical-align: middle;\n",
       "    }\n",
       "\n",
       "    .dataframe tbody tr th {\n",
       "        vertical-align: top;\n",
       "    }\n",
       "\n",
       "    .dataframe thead th {\n",
       "        text-align: right;\n",
       "    }\n",
       "</style>\n",
       "<table border=\"1\" class=\"dataframe\">\n",
       "  <thead>\n",
       "    <tr style=\"text-align: right;\">\n",
       "      <th></th>\n",
       "      <th>#item</th>\n",
       "      <th>x</th>\n",
       "      <th>y</th>\n",
       "      <th>dx</th>\n",
       "      <th>dy</th>\n",
       "      <th>label</th>\n",
       "    </tr>\n",
       "  </thead>\n",
       "  <tbody>\n",
       "    <tr>\n",
       "      <th>0</th>\n",
       "      <td>0</td>\n",
       "      <td>273.000000</td>\n",
       "      <td>344.000000</td>\n",
       "      <td>47.158954</td>\n",
       "      <td>47.158954</td>\n",
       "      <td>mango</td>\n",
       "    </tr>\n",
       "    <tr>\n",
       "      <th>1</th>\n",
       "      <td>1</td>\n",
       "      <td>248.000000</td>\n",
       "      <td>356.000000</td>\n",
       "      <td>47.158954</td>\n",
       "      <td>47.158954</td>\n",
       "      <td>mango</td>\n",
       "    </tr>\n",
       "    <tr>\n",
       "      <th>2</th>\n",
       "      <td>2</td>\n",
       "      <td>373.000000</td>\n",
       "      <td>395.000000</td>\n",
       "      <td>47.158954</td>\n",
       "      <td>47.158954</td>\n",
       "      <td>mango</td>\n",
       "    </tr>\n",
       "    <tr>\n",
       "      <th>3</th>\n",
       "      <td>3</td>\n",
       "      <td>391.000000</td>\n",
       "      <td>418.000000</td>\n",
       "      <td>47.158954</td>\n",
       "      <td>47.158954</td>\n",
       "      <td>mango</td>\n",
       "    </tr>\n",
       "    <tr>\n",
       "      <th>4</th>\n",
       "      <td>4</td>\n",
       "      <td>332.631579</td>\n",
       "      <td>381.578947</td>\n",
       "      <td>32.000000</td>\n",
       "      <td>42.592000</td>\n",
       "      <td>mango</td>\n",
       "    </tr>\n",
       "    <tr>\n",
       "      <th>5</th>\n",
       "      <td>5</td>\n",
       "      <td>327.368421</td>\n",
       "      <td>267.368421</td>\n",
       "      <td>28.512000</td>\n",
       "      <td>31.049568</td>\n",
       "      <td>mango</td>\n",
       "    </tr>\n",
       "    <tr>\n",
       "      <th>6</th>\n",
       "      <td>6</td>\n",
       "      <td>344.736842</td>\n",
       "      <td>242.105263</td>\n",
       "      <td>31.363200</td>\n",
       "      <td>41.326975</td>\n",
       "      <td>mango</td>\n",
       "    </tr>\n",
       "  </tbody>\n",
       "</table>\n",
       "</div>"
      ],
      "text/plain": [
       "   #item           x           y         dx         dy  label\n",
       "0      0  273.000000  344.000000  47.158954  47.158954  mango\n",
       "1      1  248.000000  356.000000  47.158954  47.158954  mango\n",
       "2      2  373.000000  395.000000  47.158954  47.158954  mango\n",
       "3      3  391.000000  418.000000  47.158954  47.158954  mango\n",
       "4      4  332.631579  381.578947  32.000000  42.592000  mango\n",
       "5      5  327.368421  267.368421  28.512000  31.049568  mango\n",
       "6      6  344.736842  242.105263  31.363200  41.326975  mango"
      ]
     },
     "execution_count": 30,
     "metadata": {},
     "output_type": "execute_result"
    }
   ],
   "source": [
    "target"
   ]
  },
  {
   "cell_type": "code",
   "execution_count": 31,
   "metadata": {},
   "outputs": [],
   "source": [
    "target=trans(target,height,width)"
   ]
  },
  {
   "cell_type": "code",
   "execution_count": 32,
   "metadata": {},
   "outputs": [
    {
     "data": {
      "text/plain": [
       "array([[0.728     , 0.91733333, 0.64031791, 0.78231791, 0.        ],\n",
       "       [0.66133333, 0.94933333, 0.59031791, 0.80631791, 0.        ],\n",
       "       [0.99466667, 1.05333333, 0.84031791, 0.88431791, 0.        ],\n",
       "       [1.04266667, 1.11466667, 0.87631791, 0.93031791, 0.        ],\n",
       "       [0.88701754, 1.01754386, 0.72926316, 0.84834189, 0.        ],\n",
       "       [0.87298246, 0.71298246, 0.71176084, 0.59683598, 0.        ],\n",
       "       [0.91929825, 0.64561404, 0.75220008, 0.56686448, 0.        ]])"
      ]
     },
     "execution_count": 32,
     "metadata": {},
     "output_type": "execute_result"
    }
   ],
   "source": [
    "target"
   ]
  },
  {
   "cell_type": "code",
   "execution_count": 33,
   "metadata": {},
   "outputs": [],
   "source": [
    "target=np.array(target)"
   ]
  },
  {
   "cell_type": "code",
   "execution_count": 34,
   "metadata": {},
   "outputs": [
    {
     "data": {
      "text/plain": [
       "array([[0.728     , 0.91733333, 0.64031791, 0.78231791],\n",
       "       [0.66133333, 0.94933333, 0.59031791, 0.80631791],\n",
       "       [0.99466667, 1.05333333, 0.84031791, 0.88431791],\n",
       "       [1.04266667, 1.11466667, 0.87631791, 0.93031791],\n",
       "       [0.88701754, 1.01754386, 0.72926316, 0.84834189],\n",
       "       [0.87298246, 0.71298246, 0.71176084, 0.59683598],\n",
       "       [0.91929825, 0.64561404, 0.75220008, 0.56686448]])"
      ]
     },
     "execution_count": 34,
     "metadata": {},
     "output_type": "execute_result"
    }
   ],
   "source": [
    "target[:, :4]"
   ]
  },
  {
   "cell_type": "code",
   "execution_count": 35,
   "metadata": {},
   "outputs": [
    {
     "data": {
      "text/plain": [
       "array([0., 0., 0., 0., 0., 0., 0.])"
      ]
     },
     "execution_count": 35,
     "metadata": {},
     "output_type": "execute_result"
    }
   ],
   "source": [
    "target[:, 4]"
   ]
  },
  {
   "cell_type": "code",
   "execution_count": 36,
   "metadata": {},
   "outputs": [],
   "source": [
    "meme=SSDAugmentation(cfg['min_dim'],MEANS)"
   ]
  },
  {
   "cell_type": "code",
   "execution_count": 37,
   "metadata": {
    "scrolled": false
   },
   "outputs": [],
   "source": [
    "img, boxes, labels = meme(img, target[:, :4], target[:, 4])"
   ]
  },
  {
   "cell_type": "code",
   "execution_count": 38,
   "metadata": {},
   "outputs": [
    {
     "data": {
      "text/plain": [
       "array([[[-68.364365 , -65.83083  , -93.760475 ],\n",
       "        [-62.2554   , -53.612892 , -81.542534 ],\n",
       "        [-39.20639  , -18.273087 , -43.96884  ],\n",
       "        ...,\n",
       "        [-21.676765 ,  48.864716 , -34.709396 ],\n",
       "        [-25.262245 ,  45.044357 , -38.25618  ],\n",
       "        [ -8.971558 ,  52.17154  , -20.456436 ]],\n",
       "\n",
       "       [[-67.69603  , -66.49916  , -94.4288   ],\n",
       "        [-58.654762 , -52.000534 , -79.93018  ],\n",
       "        [-34.890076 , -15.641533 , -41.571754 ],\n",
       "        ...,\n",
       "        [-24.141289 ,  47.444458 , -37.591866 ],\n",
       "        [-23.065063 ,  49.279938 , -37.18741  ],\n",
       "        [-12.31321  ,  52.17154  , -25.647942 ]],\n",
       "\n",
       "       [[-66.55429  , -67.6409   , -95.57054  ],\n",
       "        [-52.503666 , -49.24611  , -77.17575  ],\n",
       "        [-27.51638  , -11.145958 , -37.47673  ],\n",
       "        ...,\n",
       "        [-28.351517 ,  45.018173 , -42.516098 ],\n",
       "        [-19.311554 ,  56.515717 , -35.361588 ],\n",
       "        [-18.021873 ,  52.17154  , -34.516754 ]],\n",
       "\n",
       "       ...,\n",
       "\n",
       "       [[ 40.387558 , -20.509583 ,  -8.558174 ],\n",
       "        [ 40.2518   , -19.762924 ,  -9.623611 ],\n",
       "        [ 40.1149   , -22.012154 , -11.538071 ],\n",
       "        ...,\n",
       "        [-37.54979  , -30.48825  , -52.188515 ],\n",
       "        [-32.069    , -21.590324 , -45.156105 ],\n",
       "        [-36.888336 , -28.445992 , -49.86635  ]],\n",
       "\n",
       "       [[ 41.529266 , -18.796997 ,  -8.017899 ],\n",
       "        [ 40.83693  , -19.16352  ,  -9.053513 ],\n",
       "        [ 40.13867  , -22.535439 , -10.937912 ],\n",
       "        ...,\n",
       "        [-27.702332 , -24.731934 , -41.598587 ],\n",
       "        [-32.040466 , -27.841263 , -45.36203  ],\n",
       "        [-35.746613 , -33.58374  , -48.9591   ]],\n",
       "\n",
       "       [[ 42.197617 , -17.794472 ,  -7.7016296],\n",
       "        [ 41.17946  , -18.812637 ,  -8.719788 ],\n",
       "        [ 40.152603 , -22.841766 , -10.586578 ],\n",
       "        ...,\n",
       "        [-21.937775 , -21.36229  , -35.399406 ],\n",
       "        [-32.023758 , -31.500465 , -45.482582 ],\n",
       "        [-35.078262 , -36.59131  , -48.42801  ]]], dtype=float32)"
      ]
     },
     "execution_count": 38,
     "metadata": {},
     "output_type": "execute_result"
    }
   ],
   "source": [
    "img"
   ]
  },
  {
   "cell_type": "code",
   "execution_count": 39,
   "metadata": {},
   "outputs": [
    {
     "data": {
      "text/plain": [
       "array([[0.58929168, 0.98170732, 0.44067797, 0.67298302],\n",
       "       [0.67403744, 1.05487805, 0.55367232, 0.72786107],\n",
       "       [0.46820196, 0.51444159, 0.19494499, 0.24886275],\n",
       "       [0.39966087, 0.36039795, 0.11644365, 0.18033036]])"
      ]
     },
     "execution_count": 39,
     "metadata": {},
     "output_type": "execute_result"
    }
   ],
   "source": [
    "boxes"
   ]
  },
  {
   "cell_type": "code",
   "execution_count": 40,
   "metadata": {},
   "outputs": [
    {
     "data": {
      "text/plain": [
       "array([0., 0., 0., 0.])"
      ]
     },
     "execution_count": 40,
     "metadata": {},
     "output_type": "execute_result"
    }
   ],
   "source": [
    "labels"
   ]
  },
  {
   "cell_type": "code",
   "execution_count": 41,
   "metadata": {},
   "outputs": [],
   "source": [
    "class_to_ind=dict(zip(VOC_CLASSES, range(len(VOC_CLASSES))))"
   ]
  },
  {
   "cell_type": "code",
   "execution_count": 42,
   "metadata": {},
   "outputs": [
    {
     "data": {
      "text/plain": [
       "{'mango': 0, 'almond': 1}"
      ]
     },
     "execution_count": 42,
     "metadata": {},
     "output_type": "execute_result"
    }
   ],
   "source": [
    "class_to_ind"
   ]
  },
  {
   "cell_type": "markdown",
   "metadata": {},
   "source": [
    "res=[]\n",
    "for obj in target.iter('object'):\n",
    "    difficult = int(obj.find('difficult').text) == 1\n",
    "    name = obj.find('name').text.lower().strip()\n",
    "    bbox = obj.find('bndbox')\n",
    "\n",
    "    pts = ['xmin', 'ymin', 'xmax', 'ymax']\n",
    "    bndbox = []\n",
    "    for i, pt in enumerate(pts):\n",
    "        cur_pt = int(bbox.find(pt).text) - 1\n",
    "        # scale height or width\n",
    "        cur_pt = cur_pt / width if i % 2 == 0 else cur_pt / height\n",
    "        bndbox.append(cur_pt)\n",
    "    label_idx = class_to_ind[name]\n",
    "    bndbox.append(label_idx)\n",
    "    res += [bndbox]  # [xmin, ymin, xmax, ymax, label_ind]\n",
    "    # img_id = target.find('filename').text[:-4]\n"
   ]
  },
  {
   "cell_type": "markdown",
   "metadata": {},
   "source": [
    "for obj in target.iter('object'):\n",
    "    print(obj)"
   ]
  },
  {
   "cell_type": "markdown",
   "metadata": {},
   "source": [
    "res"
   ]
  },
  {
   "cell_type": "code",
   "execution_count": 43,
   "metadata": {},
   "outputs": [],
   "source": [
    "import pandas as pd\n",
    "annotation=pd.read_csv('/home/yuvraj/Desktop/work/HM/acfr-fruit-dataset/mangoes/annotations/20151124T024327.193809_i1590j799.csv')"
   ]
  },
  {
   "cell_type": "code",
   "execution_count": 44,
   "metadata": {},
   "outputs": [
    {
     "data": {
      "text/html": [
       "<div>\n",
       "<style scoped>\n",
       "    .dataframe tbody tr th:only-of-type {\n",
       "        vertical-align: middle;\n",
       "    }\n",
       "\n",
       "    .dataframe tbody tr th {\n",
       "        vertical-align: top;\n",
       "    }\n",
       "\n",
       "    .dataframe thead th {\n",
       "        text-align: right;\n",
       "    }\n",
       "</style>\n",
       "<table border=\"1\" class=\"dataframe\">\n",
       "  <thead>\n",
       "    <tr style=\"text-align: right;\">\n",
       "      <th></th>\n",
       "      <th>#item</th>\n",
       "      <th>x</th>\n",
       "      <th>y</th>\n",
       "      <th>dx</th>\n",
       "      <th>dy</th>\n",
       "      <th>label</th>\n",
       "    </tr>\n",
       "  </thead>\n",
       "  <tbody>\n",
       "    <tr>\n",
       "      <th>0</th>\n",
       "      <td>0</td>\n",
       "      <td>273.000000</td>\n",
       "      <td>344.000000</td>\n",
       "      <td>47.158954</td>\n",
       "      <td>47.158954</td>\n",
       "      <td>mango</td>\n",
       "    </tr>\n",
       "    <tr>\n",
       "      <th>1</th>\n",
       "      <td>1</td>\n",
       "      <td>248.000000</td>\n",
       "      <td>356.000000</td>\n",
       "      <td>47.158954</td>\n",
       "      <td>47.158954</td>\n",
       "      <td>mango</td>\n",
       "    </tr>\n",
       "    <tr>\n",
       "      <th>2</th>\n",
       "      <td>2</td>\n",
       "      <td>373.000000</td>\n",
       "      <td>395.000000</td>\n",
       "      <td>47.158954</td>\n",
       "      <td>47.158954</td>\n",
       "      <td>mango</td>\n",
       "    </tr>\n",
       "    <tr>\n",
       "      <th>3</th>\n",
       "      <td>3</td>\n",
       "      <td>391.000000</td>\n",
       "      <td>418.000000</td>\n",
       "      <td>47.158954</td>\n",
       "      <td>47.158954</td>\n",
       "      <td>mango</td>\n",
       "    </tr>\n",
       "    <tr>\n",
       "      <th>4</th>\n",
       "      <td>4</td>\n",
       "      <td>332.631579</td>\n",
       "      <td>381.578947</td>\n",
       "      <td>32.000000</td>\n",
       "      <td>42.592000</td>\n",
       "      <td>mango</td>\n",
       "    </tr>\n",
       "    <tr>\n",
       "      <th>5</th>\n",
       "      <td>5</td>\n",
       "      <td>327.368421</td>\n",
       "      <td>267.368421</td>\n",
       "      <td>28.512000</td>\n",
       "      <td>31.049568</td>\n",
       "      <td>mango</td>\n",
       "    </tr>\n",
       "    <tr>\n",
       "      <th>6</th>\n",
       "      <td>6</td>\n",
       "      <td>344.736842</td>\n",
       "      <td>242.105263</td>\n",
       "      <td>31.363200</td>\n",
       "      <td>41.326975</td>\n",
       "      <td>mango</td>\n",
       "    </tr>\n",
       "  </tbody>\n",
       "</table>\n",
       "</div>"
      ],
      "text/plain": [
       "   #item           x           y         dx         dy  label\n",
       "0      0  273.000000  344.000000  47.158954  47.158954  mango\n",
       "1      1  248.000000  356.000000  47.158954  47.158954  mango\n",
       "2      2  373.000000  395.000000  47.158954  47.158954  mango\n",
       "3      3  391.000000  418.000000  47.158954  47.158954  mango\n",
       "4      4  332.631579  381.578947  32.000000  42.592000  mango\n",
       "5      5  327.368421  267.368421  28.512000  31.049568  mango\n",
       "6      6  344.736842  242.105263  31.363200  41.326975  mango"
      ]
     },
     "execution_count": 44,
     "metadata": {},
     "output_type": "execute_result"
    }
   ],
   "source": [
    "annotation"
   ]
  },
  {
   "cell_type": "code",
   "execution_count": 45,
   "metadata": {},
   "outputs": [
    {
     "data": {
      "text/plain": [
       "375"
      ]
     },
     "execution_count": 45,
     "metadata": {},
     "output_type": "execute_result"
    }
   ],
   "source": [
    "height"
   ]
  },
  {
   "cell_type": "code",
   "execution_count": 46,
   "metadata": {},
   "outputs": [
    {
     "data": {
      "text/plain": [
       "500"
      ]
     },
     "execution_count": 46,
     "metadata": {},
     "output_type": "execute_result"
    }
   ],
   "source": [
    "width"
   ]
  },
  {
   "cell_type": "code",
   "execution_count": 47,
   "metadata": {},
   "outputs": [
    {
     "data": {
      "text/plain": [
       "3"
      ]
     },
     "execution_count": 47,
     "metadata": {},
     "output_type": "execute_result"
    }
   ],
   "source": [
    "channels"
   ]
  },
  {
   "cell_type": "code",
   "execution_count": 48,
   "metadata": {},
   "outputs": [],
   "source": [
    "img2=cv2.imread('/home/yuvraj/Desktop/work/HM/acfr-fruit-dataset/mangoes/images/20151124T024327.193809_i1590j799.png')"
   ]
  },
  {
   "cell_type": "code",
   "execution_count": 49,
   "metadata": {},
   "outputs": [],
   "source": [
    "heght2,width2,channels2=img2.shape"
   ]
  },
  {
   "cell_type": "code",
   "execution_count": 50,
   "metadata": {},
   "outputs": [
    {
     "data": {
      "text/plain": [
       "500"
      ]
     },
     "execution_count": 50,
     "metadata": {},
     "output_type": "execute_result"
    }
   ],
   "source": [
    "heght2"
   ]
  },
  {
   "cell_type": "code",
   "execution_count": 51,
   "metadata": {},
   "outputs": [
    {
     "data": {
      "text/plain": [
       "500"
      ]
     },
     "execution_count": 51,
     "metadata": {},
     "output_type": "execute_result"
    }
   ],
   "source": [
    "width2"
   ]
  },
  {
   "cell_type": "code",
   "execution_count": 52,
   "metadata": {},
   "outputs": [
    {
     "data": {
      "text/plain": [
       "3"
      ]
     },
     "execution_count": 52,
     "metadata": {},
     "output_type": "execute_result"
    }
   ],
   "source": [
    "channels2"
   ]
  },
  {
   "cell_type": "code",
   "execution_count": 53,
   "metadata": {},
   "outputs": [
    {
     "data": {
      "text/plain": [
       "array([[  0.68285714, 287.14285714, 397.45477398, 345.66549573,\n",
       "          0.        ],\n",
       "       [  0.87619048, 309.52380952, 494.12144064, 380.33620221,\n",
       "          0.        ],\n",
       "       [  0.84380952, 373.33333333, 472.3283442 , 437.06448675,\n",
       "          0.        ],\n",
       "       [  0.9047619 , 442.38095238, 496.41430871, 498.03539937,\n",
       "          0.        ]])"
      ]
     },
     "execution_count": 53,
     "metadata": {},
     "output_type": "execute_result"
    }
   ],
   "source": [
    "res"
   ]
  },
  {
   "cell_type": "markdown",
   "metadata": {},
   "source": [
    "res=[]\n",
    "for obj in target.iter('object'):\n",
    "    difficult = int(obj.find('difficult').text) == 1\n",
    "    name = obj.find('name').text.lower().strip()\n",
    "    bbox = obj.find('bndbox')\n",
    "\n",
    "    pts = ['xmin', 'ymin', 'xmax', 'ymax']\n",
    "    bndbox = []\n",
    "    for i, pt in enumerate(pts):\n",
    "        cur_pt = int(bbox.find(pt).text) - 1\n",
    "        bndbox.append(cur_pt)\n",
    "    label_idx = class_to_ind[name]\n",
    "    bndbox.append(label_idx)\n",
    "    res += [bndbox]  # [xmin, ymin, xmax, ymax, label_ind]\n",
    "    # img_id = target.find('filename').text[:-4]\n"
   ]
  },
  {
   "cell_type": "code",
   "execution_count": 54,
   "metadata": {},
   "outputs": [
    {
     "data": {
      "text/plain": [
       "array([[  0.68285714, 287.14285714, 397.45477398, 345.66549573,\n",
       "          0.        ],\n",
       "       [  0.87619048, 309.52380952, 494.12144064, 380.33620221,\n",
       "          0.        ],\n",
       "       [  0.84380952, 373.33333333, 472.3283442 , 437.06448675,\n",
       "          0.        ],\n",
       "       [  0.9047619 , 442.38095238, 496.41430871, 498.03539937,\n",
       "          0.        ]])"
      ]
     },
     "execution_count": 54,
     "metadata": {},
     "output_type": "execute_result"
    }
   ],
   "source": [
    "res"
   ]
  },
  {
   "cell_type": "code",
   "execution_count": 55,
   "metadata": {},
   "outputs": [],
   "source": [
    "cv2.imshow('image',img)\n",
    "cv2.waitKey()\n",
    "cv2.destroyAllWindows()"
   ]
  },
  {
   "cell_type": "code",
   "execution_count": 56,
   "metadata": {},
   "outputs": [
    {
     "data": {
      "text/plain": [
       "327"
      ]
     },
     "execution_count": 56,
     "metadata": {},
     "output_type": "execute_result"
    }
   ],
   "source": [
    "int(annotation['x'][5])"
   ]
  },
  {
   "cell_type": "code",
   "execution_count": 57,
   "metadata": {},
   "outputs": [
    {
     "data": {
      "text/plain": [
       "array([[[82, 66, 78],\n",
       "        [84, 66, 80],\n",
       "        [86, 63, 79],\n",
       "        ...,\n",
       "        [96, 75, 82],\n",
       "        [95, 75, 85],\n",
       "        [96, 75, 89]],\n",
       "\n",
       "       [[80, 64, 77],\n",
       "        [82, 66, 77],\n",
       "        [84, 64, 76],\n",
       "        ...,\n",
       "        [97, 75, 86],\n",
       "        [92, 75, 89],\n",
       "        [95, 74, 91]],\n",
       "\n",
       "       [[82, 62, 75],\n",
       "        [82, 63, 74],\n",
       "        [83, 62, 73],\n",
       "        ...,\n",
       "        [96, 74, 90],\n",
       "        [94, 75, 92],\n",
       "        [95, 75, 94]],\n",
       "\n",
       "       ...,\n",
       "\n",
       "       [[25, 40, 47],\n",
       "        [25, 42, 45],\n",
       "        [25, 46, 49],\n",
       "        ...,\n",
       "        [20, 24, 32],\n",
       "        [20, 27, 34],\n",
       "        [22, 28, 36]],\n",
       "\n",
       "       [[22, 40, 43],\n",
       "        [24, 43, 45],\n",
       "        [26, 48, 48],\n",
       "        ...,\n",
       "        [21, 25, 32],\n",
       "        [21, 29, 34],\n",
       "        [22, 32, 36]],\n",
       "\n",
       "       [[20, 38, 40],\n",
       "        [23, 42, 42],\n",
       "        [26, 45, 47],\n",
       "        ...,\n",
       "        [22, 25, 32],\n",
       "        [23, 28, 34],\n",
       "        [23, 33, 35]]], dtype=uint8)"
      ]
     },
     "execution_count": 57,
     "metadata": {},
     "output_type": "execute_result"
    }
   ],
   "source": [
    "cv2.rectangle(img2,(int(annotation['x'][0]),int(annotation['y'][0])),(int(annotation['x'][0]+annotation['dx'][0]),int(annotation['y'][0]+annotation['dy'][0])),(0,255,0),1)"
   ]
  },
  {
   "cell_type": "code",
   "execution_count": 58,
   "metadata": {},
   "outputs": [
    {
     "data": {
      "text/html": [
       "<div>\n",
       "<style scoped>\n",
       "    .dataframe tbody tr th:only-of-type {\n",
       "        vertical-align: middle;\n",
       "    }\n",
       "\n",
       "    .dataframe tbody tr th {\n",
       "        vertical-align: top;\n",
       "    }\n",
       "\n",
       "    .dataframe thead th {\n",
       "        text-align: right;\n",
       "    }\n",
       "</style>\n",
       "<table border=\"1\" class=\"dataframe\">\n",
       "  <thead>\n",
       "    <tr style=\"text-align: right;\">\n",
       "      <th></th>\n",
       "      <th>#item</th>\n",
       "      <th>x</th>\n",
       "      <th>y</th>\n",
       "      <th>dx</th>\n",
       "      <th>dy</th>\n",
       "      <th>label</th>\n",
       "    </tr>\n",
       "  </thead>\n",
       "  <tbody>\n",
       "    <tr>\n",
       "      <th>0</th>\n",
       "      <td>0</td>\n",
       "      <td>273.0</td>\n",
       "      <td>344.0</td>\n",
       "      <td>47.0</td>\n",
       "      <td>47.0</td>\n",
       "      <td>mango</td>\n",
       "    </tr>\n",
       "    <tr>\n",
       "      <th>1</th>\n",
       "      <td>1</td>\n",
       "      <td>248.0</td>\n",
       "      <td>356.0</td>\n",
       "      <td>47.0</td>\n",
       "      <td>47.0</td>\n",
       "      <td>mango</td>\n",
       "    </tr>\n",
       "    <tr>\n",
       "      <th>2</th>\n",
       "      <td>2</td>\n",
       "      <td>373.0</td>\n",
       "      <td>395.0</td>\n",
       "      <td>47.0</td>\n",
       "      <td>47.0</td>\n",
       "      <td>mango</td>\n",
       "    </tr>\n",
       "    <tr>\n",
       "      <th>3</th>\n",
       "      <td>3</td>\n",
       "      <td>391.0</td>\n",
       "      <td>418.0</td>\n",
       "      <td>47.0</td>\n",
       "      <td>47.0</td>\n",
       "      <td>mango</td>\n",
       "    </tr>\n",
       "    <tr>\n",
       "      <th>4</th>\n",
       "      <td>4</td>\n",
       "      <td>333.0</td>\n",
       "      <td>382.0</td>\n",
       "      <td>32.0</td>\n",
       "      <td>43.0</td>\n",
       "      <td>mango</td>\n",
       "    </tr>\n",
       "    <tr>\n",
       "      <th>5</th>\n",
       "      <td>5</td>\n",
       "      <td>327.0</td>\n",
       "      <td>267.0</td>\n",
       "      <td>29.0</td>\n",
       "      <td>31.0</td>\n",
       "      <td>mango</td>\n",
       "    </tr>\n",
       "    <tr>\n",
       "      <th>6</th>\n",
       "      <td>6</td>\n",
       "      <td>345.0</td>\n",
       "      <td>242.0</td>\n",
       "      <td>31.0</td>\n",
       "      <td>41.0</td>\n",
       "      <td>mango</td>\n",
       "    </tr>\n",
       "  </tbody>\n",
       "</table>\n",
       "</div>"
      ],
      "text/plain": [
       "   #item      x      y    dx    dy  label\n",
       "0      0  273.0  344.0  47.0  47.0  mango\n",
       "1      1  248.0  356.0  47.0  47.0  mango\n",
       "2      2  373.0  395.0  47.0  47.0  mango\n",
       "3      3  391.0  418.0  47.0  47.0  mango\n",
       "4      4  333.0  382.0  32.0  43.0  mango\n",
       "5      5  327.0  267.0  29.0  31.0  mango\n",
       "6      6  345.0  242.0  31.0  41.0  mango"
      ]
     },
     "execution_count": 58,
     "metadata": {},
     "output_type": "execute_result"
    }
   ],
   "source": [
    "np.round_(annotation)"
   ]
  },
  {
   "cell_type": "code",
   "execution_count": 59,
   "metadata": {},
   "outputs": [
    {
     "data": {
      "text/plain": [
       "array([[364.        , 344.        , 320.15895382, 293.36921537],\n",
       "       [330.66666667, 356.        , 295.15895382, 302.36921537],\n",
       "       [497.33333333, 395.        , 420.15895382, 331.61921537],\n",
       "       [521.33333333, 418.        , 438.15895382, 348.86921537],\n",
       "       [443.50877193, 381.57894737, 364.63157895, 318.12821053],\n",
       "       [436.49122807, 267.36842105, 355.88042105, 223.81349179],\n",
       "       [459.64912281, 242.10526316, 376.1000421 , 212.57417862]])"
      ]
     },
     "execution_count": 59,
     "metadata": {},
     "output_type": "execute_result"
    }
   ],
   "source": [
    "target[:, :4]"
   ]
  },
  {
   "cell_type": "code",
   "execution_count": 60,
   "metadata": {},
   "outputs": [],
   "source": [
    "cv2.imshow('image',img2)\n",
    "cv2.waitKey()\n",
    "cv2.destroyAllWindows()"
   ]
  },
  {
   "cell_type": "code",
   "execution_count": 61,
   "metadata": {},
   "outputs": [
    {
     "data": {
      "text/plain": [
       "300"
      ]
     },
     "execution_count": 61,
     "metadata": {},
     "output_type": "execute_result"
    }
   ],
   "source": [
    "cfg['min_dim']"
   ]
  },
  {
   "cell_type": "code",
   "execution_count": 62,
   "metadata": {
    "scrolled": true
   },
   "outputs": [
    {
     "name": "stderr",
     "output_type": "stream",
     "text": [
      "/home/yuvraj/Desktop/work/HM/ssd.pytorch-master/ssd.py:34: UserWarning: volatile was removed and now has no effect. Use `with torch.no_grad():` instead.\n",
      "  self.priors = Variable(self.priorbox.forward(), volatile=True)\n",
      "/home/yuvraj/Desktop/work/HM/ssd.pytorch-master/layers/modules/l2norm.py:17: UserWarning: nn.init.constant is now deprecated in favor of nn.init.constant_.\n",
      "  init.constant(self.weight,self.gamma)\n"
     ]
    }
   ],
   "source": [
    "ssd_net = build_ssd('train', cfg['min_dim'], cfg['num_classes'])\n",
    "net = ssd_net"
   ]
  },
  {
   "cell_type": "code",
   "execution_count": 63,
   "metadata": {},
   "outputs": [],
   "source": [
    "if args.cuda:\n",
    "    net = torch.nn.DataParallel(ssd_net)\n",
    "    cudnn.benchmark = True"
   ]
  },
  {
   "cell_type": "code",
   "execution_count": 64,
   "metadata": {},
   "outputs": [
    {
     "name": "stdout",
     "output_type": "stream",
     "text": [
      "Loading base network...\n"
     ]
    }
   ],
   "source": [
    "if args.resume:\n",
    "    print('Resuming training, loading {}...'.format(args.resume))\n",
    "    ssd_net.load_weights(args.resume)\n",
    "else:\n",
    "    vgg_weights = torch.load(args.save_folder + args.basenet)\n",
    "    print('Loading base network...')\n",
    "    ssd_net.vgg.load_state_dict(vgg_weights)"
   ]
  },
  {
   "cell_type": "code",
   "execution_count": 65,
   "metadata": {},
   "outputs": [],
   "source": [
    "if args.cuda:\n",
    "    net = net.cuda()"
   ]
  },
  {
   "cell_type": "code",
   "execution_count": 66,
   "metadata": {},
   "outputs": [],
   "source": [
    "def adjust_learning_rate(optimizer, gamma, step):\n",
    "    \"\"\"Sets the learning rate to the initial LR decayed by 10 at every\n",
    "        specified step\n",
    "    # Adapted from PyTorch Imagenet example:\n",
    "    # https://github.com/pytorch/examples/blob/master/imagenet/main.py\n",
    "    \"\"\"\n",
    "    lr = args.lr * (gamma ** (step))\n",
    "    for param_group in optimizer.param_groups:\n",
    "        param_group['lr'] = lr\n",
    "\n",
    "\n",
    "def xavier(param):\n",
    "    init.xavier_uniform(param)\n",
    "\n",
    "\n",
    "def weights_init(m):\n",
    "    if isinstance(m, nn.Conv2d):\n",
    "        xavier(m.weight.data)\n",
    "        m.bias.data.zero_()\n",
    "\n",
    "\n",
    "def create_vis_plot(_xlabel, _ylabel, _title, _legend):\n",
    "    return viz.line(\n",
    "        X=torch.zeros((1,)).cpu(),\n",
    "        Y=torch.zeros((1, 3)).cpu(),\n",
    "        opts=dict(\n",
    "            xlabel=_xlabel,\n",
    "            ylabel=_ylabel,\n",
    "            title=_title,\n",
    "            legend=_legend\n",
    "        )\n",
    "    )\n",
    "\n",
    "\n",
    "def update_vis_plot(iteration, loc, conf, window1, window2, update_type,\n",
    "                    epoch_size=1):\n",
    "    viz.line(\n",
    "        X=torch.ones((1, 3)).cpu() * iteration,\n",
    "        Y=torch.Tensor([loc, conf, loc + conf]).unsqueeze(0).cpu() / epoch_size,\n",
    "        win=window1,\n",
    "        update=update_type\n",
    "    )\n",
    "    # initialize epoch plot on first iteration\n",
    "    if iteration == 0:\n",
    "        viz.line(\n",
    "            X=torch.zeros((1, 3)).cpu(),\n",
    "            Y=torch.Tensor([loc, conf, loc + conf]).unsqueeze(0).cpu(),\n",
    "            win=window2,\n",
    "            update=True\n",
    "        )"
   ]
  },
  {
   "cell_type": "code",
   "execution_count": 67,
   "metadata": {},
   "outputs": [
    {
     "name": "stdout",
     "output_type": "stream",
     "text": [
      "Initializing weights...\n"
     ]
    },
    {
     "name": "stderr",
     "output_type": "stream",
     "text": [
      "__main__:13: UserWarning: nn.init.xavier_uniform is now deprecated in favor of nn.init.xavier_uniform_.\n"
     ]
    }
   ],
   "source": [
    "if not args.resume:\n",
    "    print('Initializing weights...')\n",
    "    # initialize newly added layers' weights with xavier method\n",
    "    ssd_net.extras.apply(weights_init)\n",
    "    ssd_net.loc.apply(weights_init)\n",
    "    ssd_net.conf.apply(weights_init)"
   ]
  },
  {
   "cell_type": "code",
   "execution_count": 68,
   "metadata": {},
   "outputs": [],
   "source": [
    "optimizer = optim.SGD(net.parameters(), lr=args.lr, momentum=args.momentum,\n",
    "                      weight_decay=args.weight_decay)\n",
    "criterion = MultiBoxLoss(cfg['num_classes'], 0.5, True, 0, True, 3, 0.5,\n",
    "                         False, args.cuda)"
   ]
  },
  {
   "cell_type": "code",
   "execution_count": 69,
   "metadata": {},
   "outputs": [
    {
     "name": "stdout",
     "output_type": "stream",
     "text": [
      "Loading the dataset...\n",
      "Training SSD on: VOC0712\n",
      "Using the specified args:\n",
      "Namespace(basenet='vgg16_reducedfc.pth', batch_size=4, cuda=True, dataset='VOC', dataset_root='/home/yuvraj/Desktop/work/HM/acfr-fruit-dataset/', foo=False, gamma=0.1, lr=0.0005, momentum=0.9, num_workers=4, resume=None, save_folder='weights/', start_iter=0, visdom=False, weight_decay=0.0005)\n"
     ]
    }
   ],
   "source": [
    "net.train()\n",
    "# loss counters\n",
    "loc_loss = 0\n",
    "conf_loss = 0\n",
    "epoch = 0\n",
    "print('Loading the dataset...')\n",
    "\n",
    "epoch_size = len(dataset) // args.batch_size\n",
    "print('Training SSD on:', dataset.name)\n",
    "print('Using the specified args:')\n",
    "print(args)\n",
    "\n",
    "step_index = 0\n",
    "\n",
    "if args.visdom:\n",
    "    vis_title = 'SSD.PyTorch on ' + dataset.name\n",
    "    vis_legend = ['Loc Loss', 'Conf Loss', 'Total Loss']\n",
    "    iter_plot = create_vis_plot('Iteration', 'Loss', vis_title, vis_legend)\n",
    "    epoch_plot = create_vis_plot('Epoch', 'Loss', vis_title, vis_legend)\n",
    "\n",
    "data_loader = data.DataLoader(dataset, args.batch_size,\n",
    "                              num_workers=args.num_workers,\n",
    "                              shuffle=True, collate_fn=detection_collate,\n",
    "                              pin_memory=True)\n"
   ]
  },
  {
   "cell_type": "code",
   "execution_count": 70,
   "metadata": {},
   "outputs": [
    {
     "name": "stderr",
     "output_type": "stream",
     "text": [
      "__main__:24: UserWarning: volatile was removed and now has no effect. Use `with torch.no_grad():` instead.\n",
      "/home/yuvraj/anaconda3/envs/tf/lib/python3.6/site-packages/torch/nn/functional.py:52: UserWarning: size_average and reduce args will be deprecated, please use reduction='sum' instead.\n",
      "  warnings.warn(warning.format(ret))\n",
      "__main__:38: UserWarning: invalid index of a 0-dim tensor. This will be an error in PyTorch 0.5. Use tensor.item() to convert a 0-dim tensor to a Python number\n",
      "__main__:39: UserWarning: invalid index of a 0-dim tensor. This will be an error in PyTorch 0.5. Use tensor.item() to convert a 0-dim tensor to a Python number\n",
      "__main__:43: UserWarning: invalid index of a 0-dim tensor. This will be an error in PyTorch 0.5. Use tensor.item() to convert a 0-dim tensor to a Python number\n"
     ]
    },
    {
     "name": "stdout",
     "output_type": "stream",
     "text": [
      "timer: 14.9733 sec.\n",
      "iter 0 || Loss: 17.8809 || timer: 0.6206 sec.\n",
      "iter 10 || Loss: 8.2514 || timer: 0.6973 sec.\n",
      "iter 20 || Loss: 14.6094 || timer: 0.5275 sec.\n",
      "iter 30 || Loss: 12.4495 || timer: 0.5306 sec.\n",
      "iter 40 || Loss: 24.1649 || timer: 0.5249 sec.\n",
      "iter 50 || Loss: 3594.5168 || timer: 0.5281 sec.\n",
      "iter 60 || Loss: nan || "
     ]
    },
    {
     "name": "stderr",
     "output_type": "stream",
     "text": [
      "Process Process-2:\n",
      "Process Process-3:\n",
      "Process Process-4:\n",
      "Process Process-1:\n",
      "Traceback (most recent call last):\n",
      "Traceback (most recent call last):\n",
      "Traceback (most recent call last):\n",
      "  File \"/home/yuvraj/anaconda3/envs/tf/lib/python3.6/multiprocessing/process.py\", line 258, in _bootstrap\n",
      "    self.run()\n",
      "  File \"/home/yuvraj/anaconda3/envs/tf/lib/python3.6/multiprocessing/process.py\", line 258, in _bootstrap\n",
      "    self.run()\n",
      "  File \"/home/yuvraj/anaconda3/envs/tf/lib/python3.6/multiprocessing/process.py\", line 93, in run\n",
      "    self._target(*self._args, **self._kwargs)\n",
      "  File \"/home/yuvraj/anaconda3/envs/tf/lib/python3.6/multiprocessing/process.py\", line 93, in run\n",
      "    self._target(*self._args, **self._kwargs)\n",
      "  File \"/home/yuvraj/anaconda3/envs/tf/lib/python3.6/site-packages/torch/utils/data/dataloader.py\", line 96, in _worker_loop\n",
      "    r = index_queue.get(timeout=MANAGER_STATUS_CHECK_INTERVAL)\n",
      "  File \"/home/yuvraj/anaconda3/envs/tf/lib/python3.6/site-packages/torch/utils/data/dataloader.py\", line 96, in _worker_loop\n",
      "    r = index_queue.get(timeout=MANAGER_STATUS_CHECK_INTERVAL)\n",
      "  File \"/home/yuvraj/anaconda3/envs/tf/lib/python3.6/multiprocessing/process.py\", line 258, in _bootstrap\n",
      "    self.run()\n",
      "  File \"/home/yuvraj/anaconda3/envs/tf/lib/python3.6/multiprocessing/queues.py\", line 104, in get\n",
      "    if not self._poll(timeout):\n",
      "  File \"/home/yuvraj/anaconda3/envs/tf/lib/python3.6/multiprocessing/queues.py\", line 104, in get\n",
      "    if not self._poll(timeout):\n",
      "  File \"/home/yuvraj/anaconda3/envs/tf/lib/python3.6/multiprocessing/process.py\", line 93, in run\n",
      "    self._target(*self._args, **self._kwargs)\n",
      "  File \"/home/yuvraj/anaconda3/envs/tf/lib/python3.6/multiprocessing/connection.py\", line 257, in poll\n",
      "    return self._poll(timeout)\n",
      "  File \"/home/yuvraj/anaconda3/envs/tf/lib/python3.6/multiprocessing/connection.py\", line 257, in poll\n",
      "    return self._poll(timeout)\n",
      "  File \"/home/yuvraj/anaconda3/envs/tf/lib/python3.6/site-packages/torch/utils/data/dataloader.py\", line 96, in _worker_loop\n",
      "    r = index_queue.get(timeout=MANAGER_STATUS_CHECK_INTERVAL)\n",
      "  File \"/home/yuvraj/anaconda3/envs/tf/lib/python3.6/multiprocessing/connection.py\", line 414, in _poll\n",
      "    r = wait([self], timeout)\n",
      "Traceback (most recent call last):\n",
      "  File \"/home/yuvraj/anaconda3/envs/tf/lib/python3.6/multiprocessing/queues.py\", line 104, in get\n",
      "    if not self._poll(timeout):\n",
      "  File \"/home/yuvraj/anaconda3/envs/tf/lib/python3.6/multiprocessing/connection.py\", line 257, in poll\n",
      "    return self._poll(timeout)\n",
      "  File \"/home/yuvraj/anaconda3/envs/tf/lib/python3.6/multiprocessing/connection.py\", line 414, in _poll\n",
      "    r = wait([self], timeout)\n",
      "  File \"/home/yuvraj/anaconda3/envs/tf/lib/python3.6/multiprocessing/process.py\", line 258, in _bootstrap\n",
      "    self.run()\n",
      "  File \"/home/yuvraj/anaconda3/envs/tf/lib/python3.6/multiprocessing/connection.py\", line 414, in _poll\n",
      "    r = wait([self], timeout)\n",
      "  File \"/home/yuvraj/anaconda3/envs/tf/lib/python3.6/multiprocessing/connection.py\", line 911, in wait\n",
      "    ready = selector.select(timeout)\n",
      "  File \"/home/yuvraj/anaconda3/envs/tf/lib/python3.6/selectors.py\", line 376, in select\n",
      "    fd_event_list = self._poll.poll(timeout)\n",
      "KeyboardInterrupt\n",
      "  File \"/home/yuvraj/anaconda3/envs/tf/lib/python3.6/multiprocessing/connection.py\", line 911, in wait\n",
      "    ready = selector.select(timeout)\n",
      "  File \"/home/yuvraj/anaconda3/envs/tf/lib/python3.6/multiprocessing/connection.py\", line 911, in wait\n",
      "    ready = selector.select(timeout)\n",
      "  File \"/home/yuvraj/anaconda3/envs/tf/lib/python3.6/multiprocessing/process.py\", line 93, in run\n",
      "    self._target(*self._args, **self._kwargs)\n",
      "  File \"/home/yuvraj/anaconda3/envs/tf/lib/python3.6/selectors.py\", line 376, in select\n",
      "    fd_event_list = self._poll.poll(timeout)\n",
      "  File \"/home/yuvraj/anaconda3/envs/tf/lib/python3.6/site-packages/torch/utils/data/dataloader.py\", line 106, in _worker_loop\n",
      "    samples = collate_fn([dataset[i] for i in batch_indices])\n",
      "  File \"/home/yuvraj/anaconda3/envs/tf/lib/python3.6/selectors.py\", line 376, in select\n",
      "    fd_event_list = self._poll.poll(timeout)\n",
      "KeyboardInterrupt\n",
      "  File \"/home/yuvraj/anaconda3/envs/tf/lib/python3.6/site-packages/torch/utils/data/dataloader.py\", line 106, in <listcomp>\n",
      "    samples = collate_fn([dataset[i] for i in batch_indices])\n",
      "KeyboardInterrupt\n",
      "  File \"/home/yuvraj/Desktop/work/HM/ssd.pytorch-master/data/voc0712.py\", line 106, in __getitem__\n",
      "    im, gt, h, w = self.pull_item(index)\n",
      "  File \"/home/yuvraj/Desktop/work/HM/ssd.pytorch-master/data/voc0712.py\", line 121, in pull_item\n",
      "    target = self.target_transform(target, width, height)\n",
      "  File \"/home/yuvraj/Desktop/work/HM/ssd.pytorch-master/data/voc0712.py\", line 65, in __call__\n",
      "    df.loc[:,'label']=self.class_to_ind[df['label'][0]]\n",
      "  File \"/home/yuvraj/anaconda3/envs/tf/lib/python3.6/site-packages/pandas/core/indexing.py\", line 189, in __setitem__\n",
      "    self._setitem_with_indexer(indexer, value)\n",
      "  File \"/home/yuvraj/anaconda3/envs/tf/lib/python3.6/site-packages/pandas/core/indexing.py\", line 615, in _setitem_with_indexer\n",
      "    setter(item, value)\n",
      "  File \"/home/yuvraj/anaconda3/envs/tf/lib/python3.6/site-packages/pandas/core/indexing.py\", line 543, in setter\n",
      "    self.obj[item] = s\n",
      "  File \"/home/yuvraj/anaconda3/envs/tf/lib/python3.6/site-packages/pandas/core/frame.py\", line 3119, in __setitem__\n",
      "    self._set_item(key, value)\n",
      "  File \"/home/yuvraj/anaconda3/envs/tf/lib/python3.6/site-packages/pandas/core/frame.py\", line 3201, in _set_item\n",
      "    self._check_setitem_copy()\n",
      "  File \"/home/yuvraj/anaconda3/envs/tf/lib/python3.6/site-packages/pandas/core/generic.py\", line 2673, in _check_setitem_copy\n",
      "    gc.collect(2)\n",
      "KeyboardInterrupt\n"
     ]
    },
    {
     "ename": "RuntimeError",
     "evalue": "DataLoader worker (pid 4813) exited unexpectedly with exit code 1. Details are lost due to multiprocessing. Rerunning with num_workers=0 may give better error trace.",
     "output_type": "error",
     "traceback": [
      "\u001b[0;31m---------------------------------------------------------------------------\u001b[0m",
      "\u001b[0;31mKeyboardInterrupt\u001b[0m                         Traceback (most recent call last)",
      "\u001b[0;32m~/anaconda3/envs/tf/lib/python3.6/site-packages/IPython/core/interactiveshell.py\u001b[0m in \u001b[0;36mrun_code\u001b[0;34m(self, code_obj, result, async_)\u001b[0m\n\u001b[1;32m   3266\u001b[0m                 \u001b[0;32melse\u001b[0m\u001b[0;34m:\u001b[0m\u001b[0;34m\u001b[0m\u001b[0m\n\u001b[0;32m-> 3267\u001b[0;31m                     \u001b[0mexec\u001b[0m\u001b[0;34m(\u001b[0m\u001b[0mcode_obj\u001b[0m\u001b[0;34m,\u001b[0m \u001b[0mself\u001b[0m\u001b[0;34m.\u001b[0m\u001b[0muser_global_ns\u001b[0m\u001b[0;34m,\u001b[0m \u001b[0mself\u001b[0m\u001b[0;34m.\u001b[0m\u001b[0muser_ns\u001b[0m\u001b[0;34m)\u001b[0m\u001b[0;34m\u001b[0m\u001b[0m\n\u001b[0m\u001b[1;32m   3268\u001b[0m             \u001b[0;32mfinally\u001b[0m\u001b[0;34m:\u001b[0m\u001b[0;34m\u001b[0m\u001b[0m\n",
      "\u001b[0;32m<ipython-input-70-9593ef6db683>\u001b[0m in \u001b[0;36m<module>\u001b[0;34m\u001b[0m\n\u001b[1;32m     22\u001b[0m     \u001b[0;32mif\u001b[0m \u001b[0margs\u001b[0m\u001b[0;34m.\u001b[0m\u001b[0mcuda\u001b[0m\u001b[0;34m:\u001b[0m\u001b[0;34m\u001b[0m\u001b[0m\n\u001b[0;32m---> 23\u001b[0;31m         \u001b[0mimages\u001b[0m \u001b[0;34m=\u001b[0m \u001b[0mVariable\u001b[0m\u001b[0;34m(\u001b[0m\u001b[0mimages\u001b[0m\u001b[0;34m.\u001b[0m\u001b[0mcuda\u001b[0m\u001b[0;34m(\u001b[0m\u001b[0;34m)\u001b[0m\u001b[0;34m)\u001b[0m\u001b[0;34m\u001b[0m\u001b[0m\n\u001b[0m\u001b[1;32m     24\u001b[0m         \u001b[0mtargets\u001b[0m \u001b[0;34m=\u001b[0m \u001b[0;34m[\u001b[0m\u001b[0mVariable\u001b[0m\u001b[0;34m(\u001b[0m\u001b[0mann\u001b[0m\u001b[0;34m.\u001b[0m\u001b[0mcuda\u001b[0m\u001b[0;34m(\u001b[0m\u001b[0;34m)\u001b[0m\u001b[0;34m,\u001b[0m \u001b[0mvolatile\u001b[0m\u001b[0;34m=\u001b[0m\u001b[0;32mTrue\u001b[0m\u001b[0;34m)\u001b[0m \u001b[0;32mfor\u001b[0m \u001b[0mann\u001b[0m \u001b[0;32min\u001b[0m \u001b[0mtargets\u001b[0m\u001b[0;34m]\u001b[0m\u001b[0;34m\u001b[0m\u001b[0m\n",
      "\u001b[0;31mKeyboardInterrupt\u001b[0m: ",
      "\nDuring handling of the above exception, another exception occurred:\n",
      "\u001b[0;31mRuntimeError\u001b[0m                              Traceback (most recent call last)",
      "\u001b[0;32m~/anaconda3/envs/tf/lib/python3.6/site-packages/torch/utils/data/dataloader.py\u001b[0m in \u001b[0;36mhandler\u001b[0;34m(signum, frame)\u001b[0m\n\u001b[1;32m    225\u001b[0m         \u001b[0;31m# This following call uses `waitid` with WNOHANG from C side. Therefore,\u001b[0m\u001b[0;34m\u001b[0m\u001b[0;34m\u001b[0m\u001b[0m\n\u001b[1;32m    226\u001b[0m         \u001b[0;31m# Python can still get and update the process status successfully.\u001b[0m\u001b[0;34m\u001b[0m\u001b[0;34m\u001b[0m\u001b[0m\n\u001b[0;32m--> 227\u001b[0;31m         \u001b[0m_error_if_any_worker_fails\u001b[0m\u001b[0;34m(\u001b[0m\u001b[0;34m)\u001b[0m\u001b[0;34m\u001b[0m\u001b[0m\n\u001b[0m\u001b[1;32m    228\u001b[0m         \u001b[0;32mif\u001b[0m \u001b[0mprevious_handler\u001b[0m \u001b[0;32mis\u001b[0m \u001b[0;32mnot\u001b[0m \u001b[0;32mNone\u001b[0m\u001b[0;34m:\u001b[0m\u001b[0;34m\u001b[0m\u001b[0m\n\u001b[1;32m    229\u001b[0m             \u001b[0mprevious_handler\u001b[0m\u001b[0;34m(\u001b[0m\u001b[0msignum\u001b[0m\u001b[0;34m,\u001b[0m \u001b[0mframe\u001b[0m\u001b[0;34m)\u001b[0m\u001b[0;34m\u001b[0m\u001b[0m\n",
      "\u001b[0;31mRuntimeError\u001b[0m: DataLoader worker (pid 4813) exited unexpectedly with exit code 1. Details are lost due to multiprocessing. Rerunning with num_workers=0 may give better error trace."
     ]
    }
   ],
   "source": [
    "batch_iterator = iter(data_loader)\n",
    "for iteration in range(args.start_iter, cfg['max_iter']):\n",
    "    if args.visdom and iteration != 0 and (iteration % epoch_size == 0):\n",
    "        update_vis_plot(epoch, loc_loss, conf_loss, epoch_plot, None,\n",
    "                        'append', epoch_size)\n",
    "        # reset epoch loss counters\n",
    "        loc_loss = 0\n",
    "        conf_loss = 0\n",
    "        epoch += 1\n",
    "\n",
    "    if iteration in cfg['lr_steps']:\n",
    "        step_index += 1\n",
    "        adjust_learning_rate(optimizer, args.gamma, step_index)\n",
    "\n",
    "    # load train data\n",
    "    try:\n",
    "        images, targets = next(batch_iterator)\n",
    "    except StopIteration:\n",
    "        batch_iterator = iter(data_loader)\n",
    "        images, targets = next(batch_iterator)\n",
    "\n",
    "    if args.cuda:\n",
    "        images = Variable(images.cuda())\n",
    "        targets = [Variable(ann.cuda(), volatile=True) for ann in targets]\n",
    "    else:\n",
    "        images = Variable(images)\n",
    "        targets = [Variable(ann, volatile=True) for ann in targets]\n",
    "    # forward\n",
    "    t0 = time.time()\n",
    "    out = net(images)\n",
    "    # backprop\n",
    "    optimizer.zero_grad()\n",
    "    loss_l, loss_c = criterion(out, targets)\n",
    "    loss = loss_l + loss_c\n",
    "    loss.backward()\n",
    "    optimizer.step()\n",
    "    t1 = time.time()\n",
    "    loc_loss += loss_l.data[0]\n",
    "    conf_loss += loss_c.data[0]\n",
    "\n",
    "    if iteration % 10 == 0:\n",
    "        print('timer: %.4f sec.' % (t1 - t0))\n",
    "        print('iter ' + repr(iteration) + ' || Loss: %.4f ||' % (loss.data[0]), end=' ')\n",
    "\n",
    "    if args.visdom:\n",
    "        update_vis_plot(iteration, loss_l.data[0], loss_c.data[0],\n",
    "                        iter_plot, epoch_plot, 'append')\n",
    "\n",
    "    if iteration != 0 and iteration % 5000 == 0:\n",
    "        print('Saving state, iter:', iteration)\n",
    "        torch.save(ssd_net.state_dict(), 'weights/fruit' +\n",
    "                   repr(iteration) + '.pth')\n",
    "torch.save(ssd_net.state_dict(),\n",
    "           args.save_folder + '' + args.dataset + '.pth')\n"
   ]
  },
  {
   "cell_type": "code",
   "execution_count": null,
   "metadata": {},
   "outputs": [],
   "source": [
    "data_loader = data.DataLoader(dataset, args.batch_size,\n",
    "                              num_workers=args.num_workers,\n",
    "                              shuffle=True, collate_fn=detection_collate,\n",
    "                              pin_memory=True)"
   ]
  },
  {
   "cell_type": "code",
   "execution_count": null,
   "metadata": {},
   "outputs": [],
   "source": [
    "batch_iterator = iter(data_loader)"
   ]
  },
  {
   "cell_type": "code",
   "execution_count": null,
   "metadata": {},
   "outputs": [],
   "source": [
    "next(batch_iterator)"
   ]
  },
  {
   "cell_type": "code",
   "execution_count": 401,
   "metadata": {
    "scrolled": true
   },
   "outputs": [
    {
     "ename": "IndexError",
     "evalue": "Traceback (most recent call last):\n  File \"/home/yuvraj/anaconda3/envs/tf/lib/python3.6/site-packages/torch/utils/data/dataloader.py\", line 106, in _worker_loop\n    samples = collate_fn([dataset[i] for i in batch_indices])\n  File \"/home/yuvraj/anaconda3/envs/tf/lib/python3.6/site-packages/torch/utils/data/dataloader.py\", line 106, in <listcomp>\n    samples = collate_fn([dataset[i] for i in batch_indices])\n  File \"/home/yuvraj/Desktop/work/HM/ssd.pytorch-master/data/voc0712.py\", line 106, in __getitem__\n    im, gt, h, w = self.pull_item(index)\n  File \"/home/yuvraj/Desktop/work/HM/ssd.pytorch-master/data/voc0712.py\", line 125, in pull_item\n    img, boxes, labels = self.transform(img, target[:, :4], target[:, 4])\nIndexError: too many indices for array\n",
     "output_type": "error",
     "traceback": [
      "\u001b[0;31m---------------------------------------------------------------------------\u001b[0m",
      "\u001b[0;31mIndexError\u001b[0m                                Traceback (most recent call last)",
      "\u001b[0;32m<ipython-input-401-562159cf8503>\u001b[0m in \u001b[0;36m<module>\u001b[0;34m\u001b[0m\n\u001b[0;32m----> 1\u001b[0;31m \u001b[0mimages\u001b[0m\u001b[0;34m,\u001b[0m \u001b[0mtargets\u001b[0m \u001b[0;34m=\u001b[0m \u001b[0mnext\u001b[0m\u001b[0;34m(\u001b[0m\u001b[0mbatch_iterator\u001b[0m\u001b[0;34m)\u001b[0m\u001b[0;34m\u001b[0m\u001b[0m\n\u001b[0m",
      "\u001b[0;32m~/anaconda3/envs/tf/lib/python3.6/site-packages/torch/utils/data/dataloader.py\u001b[0m in \u001b[0;36m__next__\u001b[0;34m(self)\u001b[0m\n\u001b[1;32m    334\u001b[0m                 \u001b[0mself\u001b[0m\u001b[0;34m.\u001b[0m\u001b[0mreorder_dict\u001b[0m\u001b[0;34m[\u001b[0m\u001b[0midx\u001b[0m\u001b[0;34m]\u001b[0m \u001b[0;34m=\u001b[0m \u001b[0mbatch\u001b[0m\u001b[0;34m\u001b[0m\u001b[0m\n\u001b[1;32m    335\u001b[0m                 \u001b[0;32mcontinue\u001b[0m\u001b[0;34m\u001b[0m\u001b[0m\n\u001b[0;32m--> 336\u001b[0;31m             \u001b[0;32mreturn\u001b[0m \u001b[0mself\u001b[0m\u001b[0;34m.\u001b[0m\u001b[0m_process_next_batch\u001b[0m\u001b[0;34m(\u001b[0m\u001b[0mbatch\u001b[0m\u001b[0;34m)\u001b[0m\u001b[0;34m\u001b[0m\u001b[0m\n\u001b[0m\u001b[1;32m    337\u001b[0m \u001b[0;34m\u001b[0m\u001b[0m\n\u001b[1;32m    338\u001b[0m     \u001b[0mnext\u001b[0m \u001b[0;34m=\u001b[0m \u001b[0m__next__\u001b[0m  \u001b[0;31m# Python 2 compatibility\u001b[0m\u001b[0;34m\u001b[0m\u001b[0m\n",
      "\u001b[0;32m~/anaconda3/envs/tf/lib/python3.6/site-packages/torch/utils/data/dataloader.py\u001b[0m in \u001b[0;36m_process_next_batch\u001b[0;34m(self, batch)\u001b[0m\n\u001b[1;32m    355\u001b[0m         \u001b[0mself\u001b[0m\u001b[0;34m.\u001b[0m\u001b[0m_put_indices\u001b[0m\u001b[0;34m(\u001b[0m\u001b[0;34m)\u001b[0m\u001b[0;34m\u001b[0m\u001b[0m\n\u001b[1;32m    356\u001b[0m         \u001b[0;32mif\u001b[0m \u001b[0misinstance\u001b[0m\u001b[0;34m(\u001b[0m\u001b[0mbatch\u001b[0m\u001b[0;34m,\u001b[0m \u001b[0mExceptionWrapper\u001b[0m\u001b[0;34m)\u001b[0m\u001b[0;34m:\u001b[0m\u001b[0;34m\u001b[0m\u001b[0m\n\u001b[0;32m--> 357\u001b[0;31m             \u001b[0;32mraise\u001b[0m \u001b[0mbatch\u001b[0m\u001b[0;34m.\u001b[0m\u001b[0mexc_type\u001b[0m\u001b[0;34m(\u001b[0m\u001b[0mbatch\u001b[0m\u001b[0;34m.\u001b[0m\u001b[0mexc_msg\u001b[0m\u001b[0;34m)\u001b[0m\u001b[0;34m\u001b[0m\u001b[0m\n\u001b[0m\u001b[1;32m    358\u001b[0m         \u001b[0;32mreturn\u001b[0m \u001b[0mbatch\u001b[0m\u001b[0;34m\u001b[0m\u001b[0m\n\u001b[1;32m    359\u001b[0m \u001b[0;34m\u001b[0m\u001b[0m\n",
      "\u001b[0;31mIndexError\u001b[0m: Traceback (most recent call last):\n  File \"/home/yuvraj/anaconda3/envs/tf/lib/python3.6/site-packages/torch/utils/data/dataloader.py\", line 106, in _worker_loop\n    samples = collate_fn([dataset[i] for i in batch_indices])\n  File \"/home/yuvraj/anaconda3/envs/tf/lib/python3.6/site-packages/torch/utils/data/dataloader.py\", line 106, in <listcomp>\n    samples = collate_fn([dataset[i] for i in batch_indices])\n  File \"/home/yuvraj/Desktop/work/HM/ssd.pytorch-master/data/voc0712.py\", line 106, in __getitem__\n    im, gt, h, w = self.pull_item(index)\n  File \"/home/yuvraj/Desktop/work/HM/ssd.pytorch-master/data/voc0712.py\", line 125, in pull_item\n    img, boxes, labels = self.transform(img, target[:, :4], target[:, 4])\nIndexError: too many indices for array\n"
     ]
    }
   ],
   "source": [
    "images, targets = next(batch_iterator)"
   ]
  },
  {
   "cell_type": "code",
   "execution_count": 402,
   "metadata": {},
   "outputs": [
    {
     "data": {
      "text/plain": [
       "tensor([[[[   0.0000,    0.0000,    0.0000,  ...,   97.6198,    5.8867,\n",
       "           -104.3848],\n",
       "          [   0.0000,    0.0000,    0.0000,  ...,   88.5270,   29.8855,\n",
       "            -78.2791],\n",
       "          [   0.0000,    0.0000,    0.0000,  ...,   88.8228,   79.1799,\n",
       "            -43.0308],\n",
       "          ...,\n",
       "          [   0.0000,    0.0000,    0.0000,  ...,  -13.6140,   -5.4604,\n",
       "              4.2116],\n",
       "          [   0.0000,    0.0000,    0.0000,  ...,  -30.2417,  -17.0928,\n",
       "            -10.6018],\n",
       "          [   0.0000,    0.0000,    0.0000,  ...,  -46.6505,  -35.9037,\n",
       "            -25.0483]],\n",
       "\n",
       "         [[   0.0000,    0.0000,    0.0000,  ...,  171.7531,   81.6541,\n",
       "            -38.6238],\n",
       "          [   0.0000,    0.0000,    0.0000,  ...,  154.8368,  105.6411,\n",
       "             -9.2565],\n",
       "          [   0.0000,    0.0000,    0.0000,  ...,  155.7580,  151.5434,\n",
       "             27.3409],\n",
       "          ...,\n",
       "          [   0.0000,    0.0000,    0.0000,  ...,  -43.7821,  -37.7712,\n",
       "            -27.3819],\n",
       "          [   0.0000,    0.0000,    0.0000,  ...,  -57.1289,  -48.7880,\n",
       "            -45.1937],\n",
       "          [   0.0000,    0.0000,    0.0000,  ...,  -64.0077,  -59.5728,\n",
       "            -53.3120]],\n",
       "\n",
       "         [[   0.0000,    0.0000,    0.0000,  ...,  114.8471,   33.5076,\n",
       "            -81.9000],\n",
       "          [   0.0000,    0.0000,    0.0000,  ...,   77.1578,   30.1651,\n",
       "            -73.6120],\n",
       "          [   0.0000,    0.0000,    0.0000,  ...,   72.3861,   69.8832,\n",
       "            -44.1451],\n",
       "          ...,\n",
       "          [   0.0000,    0.0000,    0.0000,  ...,  -80.7412,  -84.1162,\n",
       "            -72.5174],\n",
       "          [   0.0000,    0.0000,    0.0000,  ...,  -88.0196,  -87.8491,\n",
       "            -86.3553],\n",
       "          [   0.0000,    0.0000,    0.0000,  ...,  -92.1764,  -94.8907,\n",
       "            -92.3740]]],\n",
       "\n",
       "\n",
       "        [[[ -95.3557,  -96.4597,  -95.3805,  ...,  -99.7376,  -99.5374,\n",
       "           -101.8829],\n",
       "          [ -97.8082,  -97.1948,  -99.5840,  ...,  -98.2462,  -94.8321,\n",
       "            -90.7617],\n",
       "          [ -98.1717,  -98.2004,  -99.4976,  ...,  -98.0043,  -95.6996,\n",
       "            -94.3804],\n",
       "          ...,\n",
       "          [-106.9950, -106.6718, -109.8223,  ..., -108.9552, -110.4452,\n",
       "           -108.4044],\n",
       "          [-105.2055, -104.7559, -108.7519,  ..., -106.3769, -107.3226,\n",
       "           -106.6059],\n",
       "          [-104.3382, -105.2972, -111.9062,  ..., -101.7499, -105.6109,\n",
       "           -106.0163]],\n",
       "\n",
       "         [[ -82.2783,  -79.5050,  -80.3841,  ...,  -69.9274,  -71.2945,\n",
       "            -75.0486],\n",
       "          [ -84.7419,  -82.5050,  -83.9173,  ...,  -73.6430,  -72.4485,\n",
       "            -73.8298],\n",
       "          [ -84.1083,  -84.0455,  -88.6239,  ...,  -73.5942,  -65.7703,\n",
       "            -64.9617],\n",
       "          ...,\n",
       "          [-100.1131,  -94.2885,  -94.2583,  ...,  -97.2428,  -98.3745,\n",
       "            -97.3657],\n",
       "          [ -93.0558,  -93.5272,  -94.3128,  ...,  -94.7317,  -97.2257,\n",
       "            -96.9231],\n",
       "          [ -89.7305,  -94.9697,  -95.8043,  ...,  -93.2624,  -94.9565,\n",
       "            -95.3074]],\n",
       "\n",
       "         [[ -77.5938,  -78.3502,  -78.6576,  ...,  -78.6974,  -79.3543,\n",
       "            -82.1787],\n",
       "          [ -79.7936,  -81.2957,  -82.3188,  ...,  -74.8483,  -73.5518,\n",
       "            -73.6822],\n",
       "          [ -81.1083,  -80.9240,  -81.7502,  ...,  -76.1404,  -75.3043,\n",
       "            -75.2452],\n",
       "          ...,\n",
       "          [ -88.9934,  -88.7228,  -90.8820,  ...,  -90.0688,  -91.5330,\n",
       "            -90.2207],\n",
       "          [ -86.8705,  -88.2643,  -91.6031,  ...,  -88.0507,  -89.4708,\n",
       "            -89.8418],\n",
       "          [ -86.2864,  -87.9738,  -93.0717,  ...,  -85.2447,  -85.1301,\n",
       "            -86.6085]]],\n",
       "\n",
       "\n",
       "        [[[ -91.1582,  -91.7978,  -91.7085,  ...,  -97.6563,  -96.4779,\n",
       "            -95.1853],\n",
       "          [ -92.4739,  -92.9997,  -93.0280,  ...,  -96.6573,  -96.6530,\n",
       "            -97.0837],\n",
       "          [ -93.3663,  -92.9921,  -92.7431,  ...,  -96.4710,  -96.5450,\n",
       "            -96.7925],\n",
       "          ...,\n",
       "          [ -78.3016,  -80.7545,  -82.4025,  ..., -124.4809, -124.2508,\n",
       "           -124.0826],\n",
       "          [ -79.8496,  -81.7689,  -82.6942,  ..., -124.3921, -123.7483,\n",
       "           -123.6605],\n",
       "          [ -83.4095,  -83.6602,  -82.6731,  ..., -123.7654, -123.8095,\n",
       "           -123.5952]],\n",
       "\n",
       "         [[ -82.0925,  -82.0321,  -81.4680,  ...,  -88.0593,  -87.3333,\n",
       "            -88.0656],\n",
       "          [ -82.7152,  -82.6354,  -82.0713,  ...,  -87.7526,  -88.1870,\n",
       "            -88.7130],\n",
       "          [ -83.5763,  -82.4611,  -81.8887,  ...,  -87.4058,  -88.0867,\n",
       "            -88.3343],\n",
       "          ...,\n",
       "          [ -90.2619,  -91.5612,  -91.2117,  ..., -116.8486, -117.9652,\n",
       "           -117.9847],\n",
       "          [ -91.9126,  -92.1586,  -91.5080,  ..., -116.8123, -116.3851,\n",
       "           -118.1289],\n",
       "          [ -93.1098,  -93.0749,  -92.2089,  ..., -116.1917, -116.6904,\n",
       "           -117.4996]],\n",
       "\n",
       "         [[ -74.8775,  -75.6204,  -74.6303,  ...,  -80.4672,  -79.4622,\n",
       "            -78.9907],\n",
       "          [ -75.1063,  -75.5025,  -75.9495,  ...,  -79.5892,  -80.4356,\n",
       "            -80.0285],\n",
       "          [ -76.0349,  -75.2047,  -75.3755,  ...,  -79.5881,  -80.1350,\n",
       "            -80.0273],\n",
       "          ...,\n",
       "          [ -71.8610,  -73.0104,  -73.9899,  ..., -105.3491, -104.5153,\n",
       "           -104.2007],\n",
       "          [ -72.6600,  -73.5425,  -73.9174,  ..., -105.4991, -104.8811,\n",
       "           -104.1276],\n",
       "          [ -74.5386,  -74.6109,  -73.9271,  ..., -104.5447, -104.2286,\n",
       "           -104.3324]]],\n",
       "\n",
       "\n",
       "        [[[   0.0000,    0.0000,    0.0000,  ...,    0.0000,    0.0000,\n",
       "              0.0000],\n",
       "          [   0.0000,    0.0000,    0.0000,  ...,    0.0000,    0.0000,\n",
       "              0.0000],\n",
       "          [   0.0000,    0.0000,    0.0000,  ...,    0.0000,    0.0000,\n",
       "              0.0000],\n",
       "          ...,\n",
       "          [   0.0000,    0.0000,    0.0000,  ...,    0.0000,    0.0000,\n",
       "              0.0000],\n",
       "          [   0.0000,    0.0000,    0.0000,  ...,    0.0000,    0.0000,\n",
       "              0.0000],\n",
       "          [   0.0000,    0.0000,    0.0000,  ...,    0.0000,    0.0000,\n",
       "              0.0000]],\n",
       "\n",
       "         [[   0.0000,    0.0000,    0.0000,  ...,    0.0000,    0.0000,\n",
       "              0.0000],\n",
       "          [   0.0000,    0.0000,    0.0000,  ...,    0.0000,    0.0000,\n",
       "              0.0000],\n",
       "          [   0.0000,    0.0000,    0.0000,  ...,    0.0000,    0.0000,\n",
       "              0.0000],\n",
       "          ...,\n",
       "          [   0.0000,    0.0000,    0.0000,  ...,    0.0000,    0.0000,\n",
       "              0.0000],\n",
       "          [   0.0000,    0.0000,    0.0000,  ...,    0.0000,    0.0000,\n",
       "              0.0000],\n",
       "          [   0.0000,    0.0000,    0.0000,  ...,    0.0000,    0.0000,\n",
       "              0.0000]],\n",
       "\n",
       "         [[   0.0000,    0.0000,    0.0000,  ...,    0.0000,    0.0000,\n",
       "              0.0000],\n",
       "          [   0.0000,    0.0000,    0.0000,  ...,    0.0000,    0.0000,\n",
       "              0.0000],\n",
       "          [   0.0000,    0.0000,    0.0000,  ...,    0.0000,    0.0000,\n",
       "              0.0000],\n",
       "          ...,\n",
       "          [   0.0000,    0.0000,    0.0000,  ...,    0.0000,    0.0000,\n",
       "              0.0000],\n",
       "          [   0.0000,    0.0000,    0.0000,  ...,    0.0000,    0.0000,\n",
       "              0.0000],\n",
       "          [   0.0000,    0.0000,    0.0000,  ...,    0.0000,    0.0000,\n",
       "              0.0000]]]], device='cpu')"
      ]
     },
     "execution_count": 402,
     "metadata": {},
     "output_type": "execute_result"
    }
   ],
   "source": [
    "images"
   ]
  },
  {
   "cell_type": "code",
   "execution_count": 403,
   "metadata": {},
   "outputs": [
    {
     "data": {
      "text/plain": [
       "torch.Size([4, 3, 300, 300])"
      ]
     },
     "execution_count": 403,
     "metadata": {},
     "output_type": "execute_result"
    }
   ],
   "source": [
    "images.shape"
   ]
  },
  {
   "cell_type": "code",
   "execution_count": 404,
   "metadata": {},
   "outputs": [
    {
     "data": {
      "text/plain": [
       "[tensor([[0.7530, 0.0371, 0.8459, 0.1556, 1.0000],\n",
       "         [0.7025, 0.0993, 0.7752, 0.2526, 1.0000],\n",
       "         [0.7746, 0.1391, 0.8231, 0.2297, 1.0000],\n",
       "         [0.7385, 0.2275, 0.8153, 0.3390, 1.0000],\n",
       "         [0.7335, 0.3830, 0.8102, 0.4945, 1.0000],\n",
       "         [0.7118, 0.5523, 0.7805, 0.6638, 1.0000],\n",
       "         [0.7501, 0.5622, 0.8188, 0.7643, 1.0000],\n",
       "         [0.6960, 0.5697, 0.7646, 0.7718, 1.0000]], device='cpu'),\n",
       " tensor([[0.4367, 0.2303, 0.5033, 0.3116, 0.0000],\n",
       "         [0.3882, 0.0428, 0.4481, 0.1160, 0.0000],\n",
       "         [0.2878, 0.0903, 0.3477, 0.1636, 0.0000]], device='cpu'),\n",
       " tensor([[0.0000, 0.5830, 0.0807, 0.6911, 0.0000],\n",
       "         [0.9114, 0.4881, 0.9738, 0.5456, 0.0000]], device='cpu'),\n",
       " tensor([[0.9718, 0.5573, 1.0000, 0.5893, 1.0000],\n",
       "         [0.7387, 0.7007, 0.7671, 0.7285, 1.0000],\n",
       "         [0.7688, 0.7052, 0.7949, 0.7373, 1.0000],\n",
       "         [0.7186, 0.6789, 0.7399, 0.7110, 1.0000],\n",
       "         [0.8997, 0.4324, 0.9282, 0.4623, 1.0000]], device='cpu')]"
      ]
     },
     "execution_count": 404,
     "metadata": {},
     "output_type": "execute_result"
    }
   ],
   "source": [
    "targets"
   ]
  },
  {
   "cell_type": "code",
   "execution_count": null,
   "metadata": {},
   "outputs": [],
   "source": [
    "img = cv2.imread(dataset._imgpath % img_id)"
   ]
  },
  {
   "cell_type": "code",
   "execution_count": null,
   "metadata": {},
   "outputs": [],
   "source": [
    "dataset._imgpath"
   ]
  },
  {
   "cell_type": "code",
   "execution_count": null,
   "metadata": {},
   "outputs": [],
   "source": [
    "img_id"
   ]
  },
  {
   "cell_type": "code",
   "execution_count": null,
   "metadata": {},
   "outputs": [],
   "source": [
    "dataset._imgpath % img_id"
   ]
  },
  {
   "cell_type": "code",
   "execution_count": null,
   "metadata": {},
   "outputs": [],
   "source": [
    "len(dataset) // args.batch_size"
   ]
  },
  {
   "cell_type": "code",
   "execution_count": null,
   "metadata": {},
   "outputs": [],
   "source": [
    "471*4"
   ]
  },
  {
   "cell_type": "code",
   "execution_count": null,
   "metadata": {},
   "outputs": [],
   "source": []
  },
  {
   "cell_type": "code",
   "execution_count": null,
   "metadata": {},
   "outputs": [],
   "source": [
    "\n"
   ]
  }
 ],
 "metadata": {
  "kernelspec": {
   "display_name": "tf",
   "language": "python",
   "name": "tf"
  },
  "language_info": {
   "codemirror_mode": {
    "name": "ipython",
    "version": 3
   },
   "file_extension": ".py",
   "mimetype": "text/x-python",
   "name": "python",
   "nbconvert_exporter": "python",
   "pygments_lexer": "ipython3",
   "version": "3.6.6"
  }
 },
 "nbformat": 4,
 "nbformat_minor": 2
}
